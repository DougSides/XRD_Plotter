{
 "cells": [
  {
   "cell_type": "code",
   "execution_count": null,
   "id": "31fed9ec-49a1-4abb-9843-b8f9095228f7",
   "metadata": {},
   "outputs": [
    {
     "name": "stdin",
     "output_type": "stream",
     "text": [
      "NAME OF PLOT>  Test_XRD\n",
      "NUMBER OF FILES>  1\n",
      "FILE>  TestFile.xy\n",
      "DATA LABEL>  Test_XRD\n"
     ]
    }
   ],
   "source": [
    "%run XRD_Plotter.py\n"
   ]
  },
  {
   "cell_type": "code",
   "execution_count": null,
   "id": "695dfe35-68cf-412c-a7be-fa15ee3a67ef",
   "metadata": {},
   "outputs": [],
   "source": []
  }
 ],
 "metadata": {
  "kernelspec": {
   "display_name": "Python [conda env:base] *",
   "language": "python",
   "name": "conda-base-py"
  },
  "language_info": {
   "codemirror_mode": {
    "name": "ipython",
    "version": 3
   },
   "file_extension": ".py",
   "mimetype": "text/x-python",
   "name": "python",
   "nbconvert_exporter": "python",
   "pygments_lexer": "ipython3",
   "version": "3.12.3"
  }
 },
 "nbformat": 4,
 "nbformat_minor": 5
}
